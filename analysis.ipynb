{
 "cells": [
  {
   "cell_type": "markdown",
   "id": "dd038ae7-50b3-434c-b1f1-6ecb670c434b",
   "metadata": {},
   "source": [
    "# Segmentation of Pelvic Fractures in CT Scans\n",
    "### Jedidiah Schloesser"
   ]
  },
  {
   "cell_type": "code",
   "execution_count": null,
   "id": "0bcab317-9501-4720-b8b5-2fe5f278f65e",
   "metadata": {},
   "outputs": [],
   "source": [
    "import matplotlib.pyplot as plt\n",
    "import os\n",
    "import pickle\n",
    "import torch\n",
    "import torchio as tio\n",
    "from utils import SubjectsDataset, Evaluator\n",
    "from models import *"
   ]
  },
  {
   "cell_type": "code",
   "execution_count": null,
   "id": "60b4d686-f258-4221-aae8-a48ac2e74d62",
   "metadata": {},
   "outputs": [],
   "source": [
    "def get_model(model_options):\n",
    "    \n",
    "    if model_options['model_class'] == UNet:\n",
    "        model = UNet(2, model_options['unet_initial_channels'], device)\n",
    "    else:\n",
    "        model = model_options['model_class'](2, device)\n",
    "\n",
    "    model.load_state_dict(torch.load(f\"data/{model_options['model_name']}/weights.pth\", map_location=device))\n",
    "\n",
    "    return model"
   ]
  },
  {
   "cell_type": "code",
   "execution_count": null,
   "id": "6d7e290a-34be-4075-bfdd-03cd40e8bf9f",
   "metadata": {},
   "outputs": [],
   "source": [
    "def evaluate_model(model_options, device):\n",
    "\n",
    "    model = get_model(model_options)\n",
    "    \n",
    "    dataset = SubjectsDataset(root='datasets/pengwin/test')\n",
    "    dataset.set_transform(tio.ZNormalization(masking_method=None))\n",
    "\n",
    "    if os.path.exists(f\"data/{model_options['model_name']}/eval.pkl\"):\n",
    "        with open(f\"data/{model_options['model_name']}/eval.pkl\", 'rb') as f:\n",
    "            evaluation = pickle.load(f)\n",
    "            \n",
    "\n",
    "    else:\n",
    "        evaluator = Evaluator(\n",
    "            model=model,\n",
    "            dataset=dataset,\n",
    "            batch_size=256,\n",
    "            num_classes=2,\n",
    "            device=device\n",
    "        )\n",
    "\n",
    "        avg_dice, avg_iou = evaluator.evaluate()\n",
    "        evaluation = {\n",
    "            \"dice\": avg_dice,\n",
    "            \"iou\": avg_iou\n",
    "        }\n",
    "        \n",
    "    return evaluation"
   ]
  },
  {
   "cell_type": "code",
   "execution_count": null,
   "id": "5f83b530-bdc0-4e66-8b94-653d9b7cdf09",
   "metadata": {},
   "outputs": [],
   "source": [
    "def plot_loss(model_options):\n",
    "    \n",
    "    losses = pickle.load(open(f\"data/{model_options['model_name']}/losses.pkl\", 'rb'))\n",
    "    train_losses = list(map(lambda x: x[0], losses))\n",
    "    val_losses = list(map(lambda x: x[1], losses))\n",
    "    \n",
    "    plt.plot(train_losses, label='Train Loss')\n",
    "    plt.plot(val_losses, label='Validation Loss')\n",
    "    plt.title(f\"Learning Curve ({model_options['model_name']})\")\n",
    "    plt.xlabel('Epoch')\n",
    "    plt.ylabel('Loss')\n",
    "    plt.legend()\n",
    "    plt.show()"
   ]
  },
  {
   "cell_type": "code",
   "execution_count": null,
   "id": "280da8f9",
   "metadata": {},
   "outputs": [],
   "source": [
    "def compare_models(evaluations):\n",
    "\n",
    "    models = list(evaluations.keys())\n",
    "    dice_scores = [evaluations[model]['dice'] for model in models]\n",
    "    iou_scores = [evaluations[model]['iou'] for model in models]\n",
    "\n",
    "    bar_width = 0.35\n",
    "\n",
    "    plt.figure(figsize=(10, 6))\n",
    "    plt.bar([i for i in range(len(models))], dice_scores, width=bar_width, label='Dice Score')\n",
    "    plt.bar([i + bar_width for i in range(len(models))], iou_scores, width=bar_width, label='IOU Score')\n",
    "    plt.xticks([i + bar_width / 2 for i in range(len(models))], models)\n",
    "    plt.xlabel('Models')\n",
    "    plt.ylabel('Coefficient Value')\n",
    "    plt.ylim(0, 1)\n",
    "    plt.title('Comparison of Dice and IOU Scores')\n",
    "    plt.legend()\n",
    "    plt.show()"
   ]
  },
  {
   "cell_type": "code",
   "execution_count": null,
   "id": "bf85512d-0886-48b2-924f-03493a793874",
   "metadata": {},
   "outputs": [],
   "source": [
    "models = [\n",
    "    {\n",
    "        'model_class': BaselineModel,\n",
    "        'model_name': 'BaselineModel'\n",
    "    },\n",
    "    {\n",
    "        'model_class': VolumetricFCN,\n",
    "        'model_name': 'VolumetricFCN'\n",
    "    },\n",
    "    {\n",
    "        'model_class': UNet,\n",
    "        'model_name': 'UNet_2',\n",
    "        'unet_initial_channels': 2\n",
    "    },\n",
    "    {\n",
    "        'model_class': UNet,\n",
    "        'model_name': 'UNet_16',\n",
    "        'unet_initial_channels': 16\n",
    "    },\n",
    "    {\n",
    "        'model_class': UNet,\n",
    "        'model_name': 'UNet_64',\n",
    "        'unet_initial_channels': 64\n",
    "    },\n",
    "    {\n",
    "        'model_class': UNet,\n",
    "        'model_name': 'UNet_128',\n",
    "        'unet_initial_channels': 128\n",
    "    },\n",
    "    {\n",
    "        'model_class': ExperimentalModel,\n",
    "        'model_name': 'ExperimentalModel',\n",
    "    }\n",
    "]\n",
    "\n",
    "device = torch.device('cuda' if torch.cuda.is_available() else 'cpu')\n",
    "evaluations = {}\n",
    "\n",
    "for model_options in models:\n",
    "    evaluations[model_options[\"model_name\"]] = evaluate_model(model_options, device)\n",
    "    plot_loss(model_options)\n",
    "\n",
    "compare_models(evaluations)"
   ]
  }
 ],
 "metadata": {
  "kernelspec": {
   "display_name": "Python 3 (ipykernel)",
   "language": "python",
   "name": "python3"
  },
  "language_info": {
   "codemirror_mode": {
    "name": "ipython",
    "version": 3
   },
   "file_extension": ".py",
   "mimetype": "text/x-python",
   "name": "python",
   "nbconvert_exporter": "python",
   "pygments_lexer": "ipython3",
   "version": "3.9.1"
  }
 },
 "nbformat": 4,
 "nbformat_minor": 5
}
