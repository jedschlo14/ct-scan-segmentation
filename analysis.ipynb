{
 "cells": [
  {
   "cell_type": "markdown",
   "id": "dd038ae7-50b3-434c-b1f1-6ecb670c434b",
   "metadata": {},
   "source": [
    "# Segmentation of Pelvic Fractures in CT Scans\n",
    "### Jedidiah Schloesser"
   ]
  },
  {
   "cell_type": "code",
   "execution_count": 1,
   "id": "0bcab317-9501-4720-b8b5-2fe5f278f65e",
   "metadata": {},
   "outputs": [
    {
     "name": "stderr",
     "output_type": "stream",
     "text": [
      "/usr/lib/python3/dist-packages/scipy/__init__.py:146: UserWarning: A NumPy version >=1.17.3 and <1.25.0 is required for this version of SciPy (detected version 1.26.4\n",
      "  warnings.warn(f\"A NumPy version >={np_minversion} and <{np_maxversion}\"\n",
      "/u/j/e/jedidiah/.local/lib/python3.10/site-packages/tqdm/auto.py:21: TqdmWarning: IProgress not found. Please update jupyter and ipywidgets. See https://ipywidgets.readthedocs.io/en/stable/user_install.html\n",
      "  from .autonotebook import tqdm as notebook_tqdm\n"
     ]
    }
   ],
   "source": [
    "import matplotlib.pyplot as plt\n",
    "import os\n",
    "import pickle\n",
    "import torch\n",
    "import torchio as tio\n",
    "from utils import SubjectsDataset, Evaluator\n",
    "from models import *"
   ]
  },
  {
   "cell_type": "code",
   "execution_count": 2,
   "id": "60b4d686-f258-4221-aae8-a48ac2e74d62",
   "metadata": {},
   "outputs": [],
   "source": [
    "def get_model(model_options):\n",
    "    \n",
    "    if model_options['model_class'] == UNet:\n",
    "        model = UNet(2, model_options['unet_initial_channels'], device)\n",
    "    else:\n",
    "        model = model_options['model_class'](2, device)\n",
    "\n",
    "    model.load_state_dict(torch.load(f\"data/{model_options['model_name']}/weights.pth\", map_location=device))\n",
    "\n",
    "    return model"
   ]
  },
  {
   "cell_type": "code",
   "execution_count": 3,
   "id": "6d7e290a-34be-4075-bfdd-03cd40e8bf9f",
   "metadata": {},
   "outputs": [],
   "source": [
    "def evaluate_model(model_options, device):\n",
    "\n",
    "    model = get_model(model_options)\n",
    "    \n",
    "    dataset = SubjectsDataset(root='datasets/pengwin/test')\n",
    "    dataset.set_transform(tio.ZNormalization(masking_method=None))\n",
    "\n",
    "    if os.path.exists(f\"data/{model_options['model_name']}/eval.pkl\"):\n",
    "        with open(f\"data/{model_options['model_name']}/eval.pkl\", 'rb') as f:\n",
    "            evaluation = pickle.load(f)\n",
    "            \n",
    "\n",
    "    else:\n",
    "        evaluator = Evaluator(\n",
    "            model=model,\n",
    "            dataset=dataset,\n",
    "            batch_size=256,\n",
    "            num_classes=2,\n",
    "            device=device\n",
    "        )\n",
    "\n",
    "        avg_dice, avg_iou = evaluator.evaluate()\n",
    "        evaluation = {\n",
    "            \"dice\": avg_dice,\n",
    "            \"iou\": avg_iou\n",
    "        }\n",
    "\n",
    "    print(f\" ---------- {model_options['model_name']} ---------- \")\n",
    "    print(f\"Average Dice: {evaluation['dice']}\")\n",
    "    print(f\"Average IoU: {evaluation['avg_iou']}\")"
   ]
  },
  {
   "cell_type": "code",
   "execution_count": 10,
   "id": "5f83b530-bdc0-4e66-8b94-653d9b7cdf09",
   "metadata": {},
   "outputs": [],
   "source": [
    "def plot_loss(model_options):\n",
    "    \n",
    "    losses = pickle.load(open(f\"data/{model_options['model_name']}/losses.pkl\", 'rb'))\n",
    "    train_losses = list(map(lambda x: x[0], losses))\n",
    "    val_losses = list(map(lambda x: x[1], losses))\n",
    "    \n",
    "    plt.plot(train_losses, label='Train Loss')\n",
    "    plt.plot(val_losses, label='Validation Loss')\n",
    "    plt.title(f\"Learning Curve ({model_options['model_name']})\")\n",
    "    plt.xlabel('Epoch')\n",
    "    plt.ylabel('Loss')\n",
    "    plt.legend()\n",
    "    plt.show()"
   ]
  },
  {
   "cell_type": "code",
   "execution_count": 11,
   "id": "bf85512d-0886-48b2-924f-03493a793874",
   "metadata": {},
   "outputs": [
    {
     "data": {
      "image/png": "[encoded data removed]",
      "text/plain": [
       "<Figure size 640x480 with 1 Axes>"
      ]
     },
     "metadata": {},
     "output_type": "display_data"
    }
   ],
   "source": [
    "models = [\n",
    "    {\n",
    "        'model_class': BaselineModel,\n",
    "        'model_name': 'BaselineModel'\n",
    "    },\n",
    "    {\n",
    "        'model_class': VolumetricFCN,\n",
    "        'model_name': 'VolumetricFCN'\n",
    "    },\n",
    "    {\n",
    "        'model_class': UNet,\n",
    "        'model_name': 'UNet_2',\n",
    "        'unet_initial_channels': 2\n",
    "    },\n",
    "    {\n",
    "        'model_class': UNet,\n",
    "        'model_name': 'UNet_16',\n",
    "        'unet_initial_channels': 16\n",
    "    },\n",
    "    {\n",
    "        'model_class': UNet,\n",
    "        'model_name': 'UNet_64',\n",
    "        'unet_initial_channels': 64\n",
    "    },\n",
    "    {\n",
    "        'model_class': UNet,\n",
    "        'model_name': 'UNet_128',\n",
    "        'unet_initial_channels': 128\n",
    "    },\n",
    "    {\n",
    "        'model_class': ExperimentalModel,\n",
    "        'model_name': 'ExperimentalModel',\n",
    "    }\n",
    "]\n",
    "\n",
    "device = torch.device('cuda' if torch.cuda.is_available() else 'cpu')\n",
    "\n",
    "for model_options in models:\n",
    "    evaluate_model(model_options, device)\n",
    "    plot_loss(model_options)"
   ]
  }
 ],
 "metadata": {
  "kernelspec": {
   "display_name": "Python 3 (ipykernel)",
   "language": "python",
   "name": "python3"
  },
  "language_info": {
   "codemirror_mode": {
    "name": "ipython",
    "version": 3
   },
   "file_extension": ".py",
   "mimetype": "text/x-python",
   "name": "python",
   "nbconvert_exporter": "python",
   "pygments_lexer": "ipython3",
   "version": "3.10.12"
  }
 },
 "nbformat": 4,
 "nbformat_minor": 5
}
